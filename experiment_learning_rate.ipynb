{
 "cells": [
  {
   "cell_type": "markdown",
   "metadata": {},
   "source": [
    "# Experiment: TicTacToe - Learning Rate"
   ]
  },
  {
   "cell_type": "code",
   "execution_count": null,
   "metadata": {},
   "outputs": [],
   "source": [
    "%matplotlib inline\n",
    "import numpy as np\n",
    "import matplotlib\n",
    "import matplotlib.pyplot as plt\n",
    "import pandas as pd\n",
    "\n",
    "from pipeline import Pipeline"
   ]
  },
  {
   "cell_type": "markdown",
   "metadata": {},
   "source": [
    "## learning rate 0.2"
   ]
  },
  {
   "cell_type": "code",
   "execution_count": null,
   "metadata": {},
   "outputs": [],
   "source": [
    "MCTS = {\n",
    "    'c_puct': 1.0,\n",
    "    'dir_alpha': 0.5,\n",
    "    'dir_epsilon': 0.25\n",
    "}\n",
    "\n",
    "OPTIMISATION = {\n",
    "    'num_batches': 2,\n",
    "    'batch_size': 512,\n",
    "    'num_epochs': 10\n",
    "}\n",
    "\n",
    "EVALUATION = {\n",
    "    'num_games': 50,\n",
    "    'num_simulations': 25,\n",
    "    'temperature': 0,\n",
    "}\n",
    "\n",
    "SELF_PLAY = {\n",
    "    'num_games': 50,\n",
    "    'num_simulations': 25,\n",
    "    'temperature': 1\n",
    "}\n",
    "\n",
    "NEURAL_NETWORKS = {\n",
    "    'learning_rate': 0.2, \n",
    "    'regularization_strength': 0.001,\n",
    "    'num_filters_policy': 256,\n",
    "    'num_filters_value': 256,\n",
    "    'num_filters_tower': 256,\n",
    "    'num_residual_blocks': 5,\n",
    "    'kernel_size_tower': 3,\n",
    "    'hidden_dim_value': 256\n",
    "}"
   ]
  },
  {
   "cell_type": "code",
   "execution_count": null,
   "metadata": {},
   "outputs": [],
   "source": [
    "test_pipeline = Pipeline(\"tictactoe_lr_0_2\", \"TicTacToe\")"
   ]
  },
  {
   "cell_type": "code",
   "execution_count": null,
   "metadata": {},
   "outputs": [],
   "source": [
    "wins_1, draws_1 = test_pipeline.run(50)"
   ]
  },
  {
   "cell_type": "code",
   "execution_count": null,
   "metadata": {},
   "outputs": [],
   "source": [
    "fig = plt.figure()\n",
    "\n",
    "plt.title(\"Evaluation - 1 epoch\")\n",
    "\n",
    "plt.xlabel(\"iteration\")\n",
    "plt.ylabel(\"ratio\")\n",
    "\n",
    "x = np.arange(50)\n",
    "losses_1 = np.ones(50) - wins_1 - draws_1\n",
    "# no_loss = np.zeros(50) + wins +draws\n",
    "\n",
    "plt.plot(x, wins_1, label=\"win ratio\")\n",
    "plt.plot(x, draws_1, label=\"draw ratio\")\n",
    "#plt.plot(x, no_loss, label=\"no loss ratio\")\n",
    "plt.plot(x, losses_1, label=\"loss ratio\")\n",
    "\n",
    "plt.legend(loc=2)\n",
    "plt.show()"
   ]
  },
  {
   "cell_type": "code",
   "execution_count": null,
   "metadata": {},
   "outputs": [],
   "source": [
    "print(wins_1)\n",
    "print(draws_1)\n",
    "print(losses_1)"
   ]
  },
  {
   "cell_type": "markdown",
   "metadata": {},
   "source": [
    "## learning rate 0.02"
   ]
  },
  {
   "cell_type": "code",
   "execution_count": null,
   "metadata": {},
   "outputs": [],
   "source": [
    "MCTS = {\n",
    "    'c_puct': 1.0,\n",
    "    'dir_alpha': 0.5,\n",
    "    'dir_epsilon': 0.25\n",
    "}\n",
    "\n",
    "OPTIMISATION = {\n",
    "    'num_batches': 2,\n",
    "    'batch_size': 512,\n",
    "    'num_epochs': 10\n",
    "}\n",
    "\n",
    "EVALUATION = {\n",
    "    'num_games': 50,\n",
    "    'num_simulations': 25,\n",
    "    'temperature': 0,\n",
    "}\n",
    "\n",
    "SELF_PLAY = {\n",
    "    'num_games': 50,\n",
    "    'num_simulations': 25,\n",
    "    'temperature': 1\n",
    "}\n",
    "\n",
    "NEURAL_NETWORKS = {\n",
    "    'learning_rate': 0.02, \n",
    "    'regularization_strength': 0.001,\n",
    "    'num_filters_policy': 256,\n",
    "    'num_filters_value': 256,\n",
    "    'num_filters_tower': 256,\n",
    "    'num_residual_blocks': 5,\n",
    "    'kernel_size_tower': 3,\n",
    "    'hidden_dim_value': 256\n",
    "}"
   ]
  },
  {
   "cell_type": "code",
   "execution_count": null,
   "metadata": {},
   "outputs": [],
   "source": [
    "test_pipeline = Pipeline(\"tictactoe_lr_0_02\", \"TicTacToe\")"
   ]
  },
  {
   "cell_type": "code",
   "execution_count": null,
   "metadata": {},
   "outputs": [],
   "source": [
    "wins_2, draws_2 = test_pipeline.run(50)"
   ]
  },
  {
   "cell_type": "code",
   "execution_count": null,
   "metadata": {},
   "outputs": [],
   "source": [
    "fig = plt.figure()\n",
    "\n",
    "plt.title(\"Evaluation - 1 epoch\")\n",
    "\n",
    "plt.xlabel(\"iteration\")\n",
    "plt.ylabel(\"ratio\")\n",
    "\n",
    "x = np.arange(50)\n",
    "losses_2 = np.ones(50) - wins_2 - draws_2\n",
    "# no_loss = np.zeros(50) + wins +draws\n",
    "\n",
    "plt.plot(x, wins_2, label=\"win ratio\")\n",
    "plt.plot(x, draws_2, label=\"draw ratio\")\n",
    "#plt.plot(x, no_loss, label=\"no loss ratio\")\n",
    "plt.plot(x, losses_2, label=\"loss ratio\")\n",
    "\n",
    "plt.legend(loc=2)\n",
    "plt.show()"
   ]
  },
  {
   "cell_type": "code",
   "execution_count": null,
   "metadata": {},
   "outputs": [],
   "source": [
    "print(wins_2)\n",
    "print(draws_2)\n",
    "print(losses_2)"
   ]
  },
  {
   "cell_type": "markdown",
   "metadata": {},
   "source": [
    "## learning rate 0.002"
   ]
  },
  {
   "cell_type": "code",
   "execution_count": null,
   "metadata": {},
   "outputs": [],
   "source": [
    "MCTS = {\n",
    "    'c_puct': 1.0,\n",
    "    'dir_alpha': 0.5,\n",
    "    'dir_epsilon': 0.25\n",
    "}\n",
    "\n",
    "OPTIMISATION = {\n",
    "    'num_batches': 2,\n",
    "    'batch_size': 512,\n",
    "    'num_epochs': 10\n",
    "}\n",
    "\n",
    "EVALUATION = {\n",
    "    'num_games': 50,\n",
    "    'num_simulations': 25,\n",
    "    'temperature': 0,\n",
    "}\n",
    "\n",
    "SELF_PLAY = {\n",
    "    'num_games': 50,\n",
    "    'num_simulations': 25,\n",
    "    'temperature': 1\n",
    "}\n",
    "\n",
    "NEURAL_NETWORKS = {\n",
    "    'learning_rate': 0.002, \n",
    "    'regularization_strength': 0.001,\n",
    "    'num_filters_policy': 256,\n",
    "    'num_filters_value': 256,\n",
    "    'num_filters_tower': 256,\n",
    "    'num_residual_blocks': 5,\n",
    "    'kernel_size_tower': 3,\n",
    "    'hidden_dim_value': 256\n",
    "}"
   ]
  },
  {
   "cell_type": "code",
   "execution_count": null,
   "metadata": {},
   "outputs": [],
   "source": [
    "test_pipeline = Pipeline(\"tictactoe_lr_0_002\", \"TicTacToe\")"
   ]
  },
  {
   "cell_type": "code",
   "execution_count": null,
   "metadata": {},
   "outputs": [],
   "source": [
    "wins_3, draws_3 = test_pipline.run(50)"
   ]
  },
  {
   "cell_type": "code",
   "execution_count": null,
   "metadata": {},
   "outputs": [],
   "source": [
    "fig = plt.figure()\n",
    "\n",
    "plt.title(\"Evaluation - 1 epoch\")\n",
    "\n",
    "plt.xlabel(\"iteration\")\n",
    "plt.ylabel(\"ratio\")\n",
    "\n",
    "x = np.arange(50)\n",
    "losses_3 = np.ones(50) - wins_3 - draws_3\n",
    "# no_loss = np.zeros(50) + wins +draws\n",
    "\n",
    "plt.plot(x, wins_3, label=\"win ratio\")\n",
    "plt.plot(x, draws_3, label=\"draw ratio\")\n",
    "#plt.plot(x, no_loss, label=\"no loss ratio\")\n",
    "plt.plot(x, losses_3, label=\"loss ratio\")\n",
    "\n",
    "plt.legend(loc=2)\n",
    "plt.show()"
   ]
  },
  {
   "cell_type": "code",
   "execution_count": null,
   "metadata": {},
   "outputs": [],
   "source": [
    "print(wins_3)\n",
    "print(draws_3)\n",
    "print(losses_3)"
   ]
  },
  {
   "cell_type": "markdown",
   "metadata": {},
   "source": [
    "## Evaluation"
   ]
  },
  {
   "cell_type": "code",
   "execution_count": null,
   "metadata": {},
   "outputs": [],
   "source": [
    "def smooth(data, window_size):\n",
    "    return np.convolve(data, np.ones((window_size,))/window_size, mode='valid')"
   ]
  },
  {
   "cell_type": "markdown",
   "metadata": {},
   "source": [
    "### Win rate"
   ]
  },
  {
   "cell_type": "code",
   "execution_count": null,
   "metadata": {},
   "outputs": [],
   "source": [
    "wins_1 = \n",
    "draws_1 = \n",
    "losses_1 = np.ones(50) - wins_1 - draws_1\n",
    "\n",
    "wins_2 = \n",
    "draws_2 = \n",
    "losses_2 = np.ones(50) - wins_2 - draws_2\n",
    "\n",
    "wins_3 = \n",
    "draws_3 = [0.02, 0.08, 0.22, 0.12, 0.02, 0.08, 0.06, 0.04, 0.0, 0.0, 0.02, 0.06, 0.02, 0.12, 0.08, 0.02, 0.02, 0.0, 0.06, 0.02, 0.04, 0.08, 0.04, 0.0, 0.06, 0.0, 0.0, 0.0, 0.0, 0.06, 0.06, 0.04, 0.04, 0.0, 0.0, 0.04, 0.04, 0.06, 0.02, 0.04, 0.0, 0.02, 0.0, 0.04, 0.04, 0.0, 0.02, 0.02, 0.04, 0.02] \n",
    "losses_3 = np.ones(50) - wins_3 - draws_3"
   ]
  },
  {
   "cell_type": "code",
   "execution_count": null,
   "metadata": {},
   "outputs": [],
   "source": [
    "window_size = 5\n",
    "\n",
    "fig = plt.figure(figsize=(10,7))\n",
    "\n",
    "plt.title(\"Evaluation - Win ratio\")\n",
    "\n",
    "plt.xlabel(\"iteration\")\n",
    "plt.ylabel(\"win ratio\")\n",
    "\n",
    "x = np.arange(50 - window_size + 1)\n",
    "\n",
    "plt.plot(x, smooth(wins_1, window_size), label=\"1 epoch\")\n",
    "plt.plot(x, smooth(wins_2, window_size), label=\"3 epoch\")\n",
    "plt.plot(x, smooth(wins_3, window_size), label=\"5 epoch\")\n",
    "plt.plot(x, smooth(wins_4, window_size), label=\"10 epoch\")\n",
    "\n",
    "plt.legend(loc=2)\n",
    "plt.show()"
   ]
  },
  {
   "cell_type": "markdown",
   "metadata": {},
   "source": [
    "## Training loss"
   ]
  },
  {
   "cell_type": "code",
   "execution_count": null,
   "metadata": {},
   "outputs": [],
   "source": []
  },
  {
   "cell_type": "code",
   "execution_count": null,
   "metadata": {},
   "outputs": [],
   "source": []
  },
  {
   "cell_type": "markdown",
   "metadata": {},
   "source": [
    "## Validation loss"
   ]
  },
  {
   "cell_type": "code",
   "execution_count": null,
   "metadata": {},
   "outputs": [],
   "source": []
  },
  {
   "cell_type": "code",
   "execution_count": null,
   "metadata": {},
   "outputs": [],
   "source": []
  }
 ],
 "metadata": {
  "kernelspec": {
   "display_name": "Python 3",
   "language": "python",
   "name": "python3"
  },
  "language_info": {
   "codemirror_mode": {
    "name": "ipython",
    "version": 3
   },
   "file_extension": ".py",
   "mimetype": "text/x-python",
   "name": "python",
   "nbconvert_exporter": "python",
   "pygments_lexer": "ipython3",
   "version": "3.5.6"
  }
 },
 "nbformat": 4,
 "nbformat_minor": 2
}
