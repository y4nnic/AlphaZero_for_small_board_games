{
 "cells": [
  {
   "cell_type": "markdown",
   "metadata": {},
   "source": [
    "# Experiment: TicTacToe - Number of Batches"
   ]
  },
  {
   "cell_type": "code",
   "execution_count": 1,
   "metadata": {},
   "outputs": [
    {
     "name": "stderr",
     "output_type": "stream",
     "text": [
      "Using TensorFlow backend.\n"
     ]
    }
   ],
   "source": [
    "%matplotlib inline\n",
    "import numpy as np\n",
    "import matplotlib\n",
    "import matplotlib.pyplot as plt\n",
    "import pandas as pd\n",
    "\n",
    "from pipeline import Pipeline"
   ]
  },
  {
   "cell_type": "markdown",
   "metadata": {},
   "source": [
    "## 1 batch"
   ]
  },
  {
   "cell_type": "code",
   "execution_count": null,
   "metadata": {},
   "outputs": [],
   "source": [
    "MCTS = {\n",
    "    'c_puct': 1.0,\n",
    "    'dir_alpha': 0.5,\n",
    "    'dir_epsilon': 0.25\n",
    "}\n",
    "\n",
    "OPTIMISATION = {\n",
    "    'num_batches': 1,\n",
    "    'batch_size': 512,\n",
    "    'num_epochs': 10\n",
    "}\n",
    "\n",
    "EVALUATION = {\n",
    "    'num_games': 50,\n",
    "    'num_simulations': 25,\n",
    "    'temperature': 0,\n",
    "}\n",
    "\n",
    "SELF_PLAY = {\n",
    "    'num_games': 50,\n",
    "    'num_simulations': 25,\n",
    "    'temperature': 1\n",
    "}\n",
    "\n",
    "NEURAL_NETWORKS = {\n",
    "    'learning_rate': 0.02, \n",
    "    'regularization_strength': 0.001,\n",
    "    'num_filters_policy': 256,\n",
    "    'num_filters_value': 256,\n",
    "    'num_filters_tower': 256,\n",
    "    'num_residual_blocks': 5,\n",
    "    'kernel_size_tower': 3,\n",
    "    'hidden_dim_value': 256\n",
    "}"
   ]
  },
  {
   "cell_type": "code",
   "execution_count": null,
   "metadata": {},
   "outputs": [],
   "source": [
    "test_pipeline = Pipeline(\"tictactoe_1_batch\", \"TicTacToe\")"
   ]
  },
  {
   "cell_type": "code",
   "execution_count": null,
   "metadata": {},
   "outputs": [],
   "source": [
    "test_pipeline.run(50)"
   ]
  },
  {
   "cell_type": "markdown",
   "metadata": {},
   "source": [
    "## 2 batches"
   ]
  },
  {
   "cell_type": "code",
   "execution_count": null,
   "metadata": {},
   "outputs": [],
   "source": [
    "MCTS = {\n",
    "    'c_puct': 1.0,\n",
    "    'dir_alpha': 0.5,\n",
    "    'dir_epsilon': 0.25\n",
    "}\n",
    "\n",
    "OPTIMISATION = {\n",
    "    'num_batches': 2,\n",
    "    'batch_size': 512,\n",
    "    'num_epochs': 10\n",
    "}\n",
    "\n",
    "EVALUATION = {\n",
    "    'num_games': 50,\n",
    "    'num_simulations': 25,\n",
    "    'temperature': 0,\n",
    "}\n",
    "\n",
    "SELF_PLAY = {\n",
    "    'num_games': 50,\n",
    "    'num_simulations': 25,\n",
    "    'temperature': 1\n",
    "}\n",
    "\n",
    "NEURAL_NETWORKS = {\n",
    "    'learning_rate': 0.02, \n",
    "    'regularization_strength': 0.001,\n",
    "    'num_filters_policy': 256,\n",
    "    'num_filters_value': 256,\n",
    "    'num_filters_tower': 256,\n",
    "    'num_residual_blocks': 5,\n",
    "    'kernel_size_tower': 3,\n",
    "    'hidden_dim_value': 256\n",
    "}"
   ]
  },
  {
   "cell_type": "code",
   "execution_count": null,
   "metadata": {},
   "outputs": [],
   "source": [
    "test_pipeline = Pipeline(\"tictactoe_2_batches\", \"TicTacToe\")"
   ]
  },
  {
   "cell_type": "code",
   "execution_count": null,
   "metadata": {},
   "outputs": [],
   "source": [
    "test_pipeline.run(50)"
   ]
  },
  {
   "cell_type": "markdown",
   "metadata": {},
   "source": [
    "## 4 batches"
   ]
  },
  {
   "cell_type": "code",
   "execution_count": null,
   "metadata": {},
   "outputs": [],
   "source": [
    "MCTS = {\n",
    "    'c_puct': 1.0,\n",
    "    'dir_alpha': 0.5,\n",
    "    'dir_epsilon': 0.25\n",
    "}\n",
    "\n",
    "OPTIMISATION = {\n",
    "    'num_batches': 4,\n",
    "    'batch_size': 512,\n",
    "    'num_epochs': 10\n",
    "}\n",
    "\n",
    "EVALUATION = {\n",
    "    'num_games': 50,\n",
    "    'num_simulations': 25,\n",
    "    'temperature': 0,\n",
    "}\n",
    "\n",
    "SELF_PLAY = {\n",
    "    'num_games': 50,\n",
    "    'num_simulations': 25,\n",
    "    'temperature': 1\n",
    "}\n",
    "\n",
    "NEURAL_NETWORKS = {\n",
    "    'learning_rate': 0.02, \n",
    "    'regularization_strength': 0.001,\n",
    "    'num_filters_policy': 256,\n",
    "    'num_filters_value': 256,\n",
    "    'num_filters_tower': 256,\n",
    "    'num_residual_blocks': 5,\n",
    "    'kernel_size_tower': 3,\n",
    "    'hidden_dim_value': 256\n",
    "}"
   ]
  },
  {
   "cell_type": "code",
   "execution_count": null,
   "metadata": {},
   "outputs": [],
   "source": [
    "test_pipeline = Pipeline(\"tictactoe_4_batches\", \"TicTacToe\")"
   ]
  },
  {
   "cell_type": "code",
   "execution_count": null,
   "metadata": {},
   "outputs": [],
   "source": [
    "test_pipeline.run(50)"
   ]
  },
  {
   "cell_type": "markdown",
   "metadata": {},
   "source": [
    "## Evaluation"
   ]
  },
  {
   "cell_type": "code",
   "execution_count": null,
   "metadata": {},
   "outputs": [],
   "source": [
    "def smooth(data, window_size):\n",
    "    return np.convolve(data, np.ones((window_size,))/window_size, mode='valid')"
   ]
  },
  {
   "cell_type": "markdown",
   "metadata": {},
   "source": [
    "### Win rate"
   ]
  },
  {
   "cell_type": "code",
   "execution_count": null,
   "metadata": {},
   "outputs": [],
   "source": [
    "wins_1 = \n",
    "draws_1 =\n",
    "losses_1 = np.ones(50) - wins_1 - draws_1\n",
    "\n",
    "wins_2 = \n",
    "draws_2 = \n",
    "losses_2 = np.ones(50) - wins_2 - draws_2\n",
    "\n",
    "wins_3 = \n",
    "draws_3 = \n",
    "losses_3 = np.ones(50) - wins_3 - draws_3\n",
    "\n",
    "wins_4 = \n",
    "draws_4 = \n",
    "losses_4 = np.ones(50) - wins_4 - draws_4"
   ]
  },
  {
   "cell_type": "code",
   "execution_count": null,
   "metadata": {},
   "outputs": [],
   "source": [
    "fig = plt.figure(figsize=(10,7))\n",
    "\n",
    "plt.title(\"Evaluation - Win ratio\")\n",
    "\n",
    "plt.xlabel(\"iteration\")\n",
    "plt.ylabel(\"win ratio\")\n",
    "\n",
    "x = np.arange(48)\n",
    "\n",
    "plt.plot(x, smooth(wins_1,3), label=\"1 epoch\")\n",
    "plt.plot(x, smooth(wins_2,3), label=\"3 epoch\")\n",
    "plt.plot(x, smooth(wins_3,3), label=\"5 epoch\")\n",
    "plt.plot(x, smooth(wins_4,3), label=\"10 epoch\")\n",
    "\n",
    "plt.legend(loc=2)\n",
    "plt.show()"
   ]
  },
  {
   "cell_type": "markdown",
   "metadata": {},
   "source": [
    "### Training loss"
   ]
  },
  {
   "cell_type": "code",
   "execution_count": null,
   "metadata": {},
   "outputs": [],
   "source": []
  },
  {
   "cell_type": "markdown",
   "metadata": {},
   "source": [
    "### Validation loss"
   ]
  },
  {
   "cell_type": "code",
   "execution_count": null,
   "metadata": {},
   "outputs": [],
   "source": []
  }
 ],
 "metadata": {
  "kernelspec": {
   "display_name": "Python 3",
   "language": "python",
   "name": "python3"
  },
  "language_info": {
   "codemirror_mode": {
    "name": "ipython",
    "version": 3
   },
   "file_extension": ".py",
   "mimetype": "text/x-python",
   "name": "python",
   "nbconvert_exporter": "python",
   "pygments_lexer": "ipython3",
   "version": "3.5.6"
  }
 },
 "nbformat": 4,
 "nbformat_minor": 2
}
