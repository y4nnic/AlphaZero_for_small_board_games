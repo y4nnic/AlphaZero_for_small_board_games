{
 "cells": [
  {
   "cell_type": "markdown",
   "metadata": {},
   "source": [
    "# Experiment - Play"
   ]
  },
  {
   "cell_type": "code",
   "execution_count": 1,
   "metadata": {},
   "outputs": [
    {
     "name": "stderr",
     "output_type": "stream",
     "text": [
      "Using TensorFlow backend.\n"
     ]
    }
   ],
   "source": [
    "import agent\n",
    "import memory\n",
    "import model\n",
    "import game\n",
    "import config\n",
    "import numpy as np\n",
    "\n",
    "from IPython.display import clear_output"
   ]
  },
  {
   "cell_type": "markdown",
   "metadata": {},
   "source": [
    "## Load model and agent"
   ]
  },
  {
   "cell_type": "code",
   "execution_count": 2,
   "metadata": {},
   "outputs": [
    {
     "name": "stdout",
     "output_type": "stream",
     "text": [
      "Loaded model ttt_random_11_5\n"
     ]
    }
   ],
   "source": [
    "pipeline_id = \"tictactoe_8\"\n",
    "episode = 9\n",
    "##############################\n",
    "position_memory = memory.PositionMemory()\n",
    "position_memory.load(\"position_memory_{}_ep_{}\" .format(pipeline_id, episode))\n",
    "\n",
    "input_shape = (3, 3, 3)\n",
    "num_possible_moves = 9\n",
    "\n",
    "az_model = model.AZModel(\n",
    "    memory=position_memory,\n",
    "    input_shape=input_shape,\n",
    "    num_possible_moves=num_possible_moves,\n",
    "    model_id=pipeline_id\n",
    ")\n",
    "az_model.load(5)\n",
    "\n",
    "az_agent = agent.AlphaZeroAgent(model=az_model)"
   ]
  },
  {
   "cell_type": "markdown",
   "metadata": {},
   "source": [
    "## Play against agent"
   ]
  },
  {
   "cell_type": "code",
   "execution_count": 3,
   "metadata": {},
   "outputs": [],
   "source": [
    "def show_board(position, current_player, nn_policy, nn_value):\n",
    "    stones = np.array([\" \", \"X\", \"O\"])\n",
    "    \n",
    "    if current_player == -1:\n",
    "        board = position.state[:,:,1] + 2*position.state[:,:,0]\n",
    "    else:\n",
    "        board = position.state[:,:,0] + 2*position.state[:,:,1]\n",
    "    \n",
    "    print(\" -----\")\n",
    "    print(\"|{}|{}|{}|\" .format(\n",
    "        stones[board[0,0]],\n",
    "        stones[board[0,1]],\n",
    "        stones[board[0,2]]\n",
    "    ))\n",
    "    print(\"|{}|{}|{}|\" .format(\n",
    "        stones[board[1,0]],\n",
    "        stones[board[1,1]],\n",
    "        stones[board[1,2]]\n",
    "    ))\n",
    "    print(\"|{}|{}|{}|\" .format(\n",
    "        stones[board[2,0]],\n",
    "        stones[board[2,1]],\n",
    "        stones[board[2,2]]\n",
    "    ))\n",
    "    print(\" -----\")\n",
    "    legal_moves = np.where(position.legal_actions == 1)[0]\n",
    "    print(\"Legal Moves: {}\" .format(legal_moves))\n",
    "    print(\"Value: {}\" .format(nn_value))\n",
    "    distribution = nn_policy\n",
    "    print(\"Distribution:\")\n",
    "    \n",
    "    print(\"|{}|{}|{}|\" .format(\n",
    "        distribution[0],\n",
    "        distribution[1],\n",
    "        distribution[2]\n",
    "    ))\n",
    "    print(\"|{}|{}|{}|\" .format(\n",
    "        distribution[3],\n",
    "        distribution[4],\n",
    "        distribution[5]    ))\n",
    "    print(\"|{}|{}|{}|\" .format(\n",
    "        distribution[6],\n",
    "        distribution[7],\n",
    "        distribution[8]\n",
    "    ))\n",
    "    return legal_moves"
   ]
  },
  {
   "cell_type": "code",
   "execution_count": 4,
   "metadata": {},
   "outputs": [],
   "source": [
    "def agent_vs_user(agent):\n",
    "    game_environment = game.TicTacToe()\n",
    "\n",
    "    # reset game\n",
    "    game_environment.reset_game()\n",
    "\n",
    "    agent.join_game(game_environment)\n",
    "\n",
    "    current_player = game_environment.current_player\n",
    "\n",
    "    winning = 0\n",
    "    turn = 0\n",
    "\n",
    "    num_simulations = config.EVALUATION['num_simulations']\n",
    "    \n",
    "    position = game_environment.get_current_position()\n",
    "    nn_value, nn_policy = agent.model.evaluate(position.state)\n",
    "    legal_moves = show_board(position, current_player, nn_policy, nn_value)\n",
    "\n",
    "    while winning is 0 and turn < 9:\n",
    "\n",
    "        if current_player == -1:\n",
    "            clear_output()  \n",
    "            # agent move\n",
    "            winning, _ = agent.play_move(num_simulations, temperature=0)\n",
    "            \n",
    "            position = game_environment.get_current_position()\n",
    "            nn_value, nn_policy = agent.model.evaluate(position.state)\n",
    "            legal_moves = show_board(position, current_player, nn_policy, nn_value)\n",
    "            \n",
    "        else:\n",
    "            # user move\n",
    "            move = int(input())\n",
    "            \n",
    "            if move in legal_moves:\n",
    "                winning = game_environment.execute_move(move)\n",
    "                agent.tree_search.update_root(move)\n",
    "                \n",
    "                position = game_environment.get_current_position()\n",
    "                nn_value, nn_policy = agent.model.evaluate(position.state)\n",
    "                show_board(position, current_player, nn_policy, nn_value)\n",
    "            else:\n",
    "                print(\"Illegal move!\")\n",
    "\n",
    "\n",
    "            \n",
    "            \n",
    "        \n",
    "        current_player = game_environment.current_player\n",
    "        turn += 1\n",
    "\n",
    "    # logger.info(\"Player {} has won the game after {} turns.\".format(winner, turn))\n",
    "    print(\"Player {} won the game after {} turns.\".format(winning*current_player, turn))\n",
    "\n",
    "    return winning"
   ]
  },
  {
   "cell_type": "code",
   "execution_count": 5,
   "metadata": {},
   "outputs": [
    {
     "name": "stdout",
     "output_type": "stream",
     "text": [
      " -----\n",
      "|O|X| |\n",
      "|O|O| |\n",
      "|X|X| |\n",
      " -----\n",
      "Legal Moves: [2 5 8]\n",
      "Value: 0.2976859211921692\n",
      "Distribution:\n",
      "|0.0005192581447772682|0.008472572080790997|0.036073166877031326|\n",
      "|0.0005564227467402816|0.0010216637747362256|0.020716460421681404|\n",
      "|0.0006489946972578764|0.0031845192424952984|0.9288069009780884|\n",
      "5\n",
      "++++++++++ SIMULATION: ILLEGAL MOVE +++++++++++\n",
      "illegal move 5\n",
      "simulation: legal_moves: [0 0 1 0 0 0 0 0 1]\n",
      "simulation current position:\n",
      " [1] | [-1] | [0] \n",
      " [1] | [1] | [1] \n",
      " [-1] | [-1] | [0] \n",
      " -----\n",
      "|O|X| |\n",
      "|O|O|O|\n",
      "|X|X| |\n",
      " -----\n",
      "Legal Moves: [2 8]\n",
      "Value: 0.5535036325454712\n",
      "Distribution:\n",
      "|0.0004060008213855326|0.009973080828785896|0.10363472253084183|\n",
      "|0.042611341923475266|0.004207355435937643|8.164860628312454e-05|\n",
      "|0.004795646294951439|0.0005004603299312294|0.8337897062301636|\n"
     ]
    },
    {
     "ename": "TypeError",
     "evalue": "'int' object is not subscriptable",
     "output_type": "error",
     "traceback": [
      "\u001b[0;31m---------------------------------------------------------------------------\u001b[0m",
      "\u001b[0;31mTypeError\u001b[0m                                 Traceback (most recent call last)",
      "\u001b[0;32m<ipython-input-5-ac323a31aa9c>\u001b[0m in \u001b[0;36m<module>\u001b[0;34m()\u001b[0m\n\u001b[0;32m----> 1\u001b[0;31m \u001b[0magent_vs_user\u001b[0m\u001b[0;34m(\u001b[0m\u001b[0maz_agent\u001b[0m\u001b[0;34m)\u001b[0m\u001b[0;34m\u001b[0m\u001b[0m\n\u001b[0m",
      "\u001b[0;32m<ipython-input-4-a985cc2bb113>\u001b[0m in \u001b[0;36magent_vs_user\u001b[0;34m(agent)\u001b[0m\n\u001b[1;32m     51\u001b[0m \u001b[0;34m\u001b[0m\u001b[0m\n\u001b[1;32m     52\u001b[0m     \u001b[0;31m# logger.info(\"Player {} has won the game after {} turns.\".format(winner, turn))\u001b[0m\u001b[0;34m\u001b[0m\u001b[0;34m\u001b[0m\u001b[0m\n\u001b[0;32m---> 53\u001b[0;31m     \u001b[0mprint\u001b[0m\u001b[0;34m(\u001b[0m\u001b[0;34m\"Player {} won the game after {} turns.\"\u001b[0m\u001b[0;34m.\u001b[0m\u001b[0mformat\u001b[0m\u001b[0;34m(\u001b[0m\u001b[0mwinning\u001b[0m\u001b[0;34m[\u001b[0m\u001b[0;36m3\u001b[0m\u001b[0;34m]\u001b[0m\u001b[0;34m,\u001b[0m \u001b[0mturn\u001b[0m\u001b[0;34m)\u001b[0m\u001b[0;34m)\u001b[0m\u001b[0;34m\u001b[0m\u001b[0m\n\u001b[0m\u001b[1;32m     54\u001b[0m \u001b[0;34m\u001b[0m\u001b[0m\n\u001b[1;32m     55\u001b[0m     \u001b[0;32mreturn\u001b[0m \u001b[0mwinning\u001b[0m\u001b[0;34m\u001b[0m\u001b[0m\n",
      "\u001b[0;31mTypeError\u001b[0m: 'int' object is not subscriptable"
     ]
    }
   ],
   "source": [
    "agent_vs_user(az_agent)"
   ]
  }
 ],
 "metadata": {
  "kernelspec": {
   "display_name": "Python 3",
   "language": "python",
   "name": "python3"
  },
  "language_info": {
   "codemirror_mode": {
    "name": "ipython",
    "version": 3
   },
   "file_extension": ".py",
   "mimetype": "text/x-python",
   "name": "python",
   "nbconvert_exporter": "python",
   "pygments_lexer": "ipython3",
   "version": "3.5.6"
  }
 },
 "nbformat": 4,
 "nbformat_minor": 1
}
