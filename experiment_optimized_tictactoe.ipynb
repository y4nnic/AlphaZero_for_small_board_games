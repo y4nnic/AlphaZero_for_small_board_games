{
 "cells": [
  {
   "cell_type": "markdown",
   "metadata": {},
   "source": [
    "# Experiment - Optimized TicTacToe"
   ]
  },
  {
   "cell_type": "code",
   "execution_count": 20,
   "metadata": {},
   "outputs": [],
   "source": [
    "import numpy as np"
   ]
  },
  {
   "cell_type": "code",
   "execution_count": 2,
   "metadata": {},
   "outputs": [],
   "source": [
    "def board_to_array(board_bin):\n",
    "    board = np.zeros((3,3,1), dtype=np.uint8)\n",
    "\n",
    "    board[0,0,:] = (board_bin & 0x40) >> 6\n",
    "    board[0,1] = (board_bin & 0x4000) >> 14\n",
    "    board[0,2] = (board_bin & 0x4) >> 2\n",
    "    board[1,0] = (board_bin & 0x20000) >> 17\n",
    "    board[1,1] = (board_bin & 0x2) >> 1\n",
    "    board[1,2] = (board_bin & 0x200) >> 9\n",
    "    board[2,0] = board_bin & 0b1\n",
    "    board[2,1] = (board_bin & 0x1000) >> 12\n",
    "    board[2,2] = (board_bin & 0x10) >> 4\n",
    "    return board"
   ]
  },
  {
   "cell_type": "code",
   "execution_count": 3,
   "metadata": {},
   "outputs": [],
   "source": [
    "example_binary_board = 0b01010000000101000000010101010100"
   ]
  },
  {
   "cell_type": "code",
   "execution_count": 4,
   "metadata": {},
   "outputs": [
    {
     "data": {
      "text/plain": [
       "array([[1, 0, 1],\n",
       "       [0, 0, 0],\n",
       "       [0, 0, 1]], dtype=uint8)"
      ]
     },
     "execution_count": 4,
     "metadata": {},
     "output_type": "execute_result"
    }
   ],
   "source": [
    "board_to_array(example_binary_board)[:,:,0]"
   ]
  },
  {
   "cell_type": "code",
   "execution_count": 5,
   "metadata": {},
   "outputs": [
    {
     "data": {
      "text/plain": [
       "0"
      ]
     },
     "execution_count": 5,
     "metadata": {},
     "output_type": "execute_result"
    }
   ],
   "source": [
    "(example_binary_board + 0x11111111) & 0x88888888"
   ]
  },
  {
   "cell_type": "code",
   "execution_count": 12,
   "metadata": {},
   "outputs": [],
   "source": [
    "example_winning_board = example_binary_board | 0x20004000"
   ]
  },
  {
   "cell_type": "code",
   "execution_count": 14,
   "metadata": {},
   "outputs": [
    {
     "data": {
      "text/plain": [
       "array([[1, 1, 1],\n",
       "       [0, 0, 0],\n",
       "       [0, 0, 1]], dtype=uint8)"
      ]
     },
     "execution_count": 14,
     "metadata": {},
     "output_type": "execute_result"
    }
   ],
   "source": [
    "board_to_array(example_winning_board)[:,:,0]"
   ]
  },
  {
   "cell_type": "code",
   "execution_count": 34,
   "metadata": {},
   "outputs": [],
   "source": [
    "test = np.array([0,1,1,1,0,0,0,1,1,0,0,1,0])"
   ]
  },
  {
   "cell_type": "code",
   "execution_count": 36,
   "metadata": {},
   "outputs": [
    {
     "name": "stdout",
     "output_type": "stream",
     "text": [
      "[0 1 1 1 0 0 0 1 1 0 0 1 0]\n"
     ]
    },
    {
     "data": {
      "text/plain": [
       "array([ 1,  2,  3,  7,  8, 11])"
      ]
     },
     "execution_count": 36,
     "metadata": {},
     "output_type": "execute_result"
    }
   ],
   "source": [
    "print(test)\n",
    "np.where(test == 1)[0]"
   ]
  },
  {
   "cell_type": "markdown",
   "metadata": {},
   "source": [
    "## TicTacToe vs TicTacToeOptimized"
   ]
  },
  {
   "cell_type": "code",
   "execution_count": 7,
   "metadata": {},
   "outputs": [],
   "source": [
    "import time\n",
    "import game"
   ]
  },
  {
   "cell_type": "code",
   "execution_count": 8,
   "metadata": {},
   "outputs": [],
   "source": [
    "def play_game(game_env):\n",
    "    game_env.reset_game()\n",
    "    positions = []\n",
    "    positions_sim = []\n",
    "    time_sim = []\n",
    "    time_res_sim = 0\n",
    "    time_ex = []\n",
    "    time_get_sim = []\n",
    "    time_get = []\n",
    "    time_res = 0\n",
    "    \n",
    "    tic = time.time()\n",
    "    game_env.simulate_move(0)\n",
    "    toc = time.time()\n",
    "    time_sim.append(toc-tic)\n",
    "    \n",
    "    tic = time.time()\n",
    "    positions_sim.append(game_env.get_current_position_simulation())\n",
    "    toc = time.time()\n",
    "    time_get_sim.append(toc-tic)\n",
    "    \n",
    "    tic = time.time()\n",
    "    game_env.simulate_move(1)\n",
    "    toc = time.time()\n",
    "    time_sim.append(toc-tic)\n",
    "    \n",
    "    tic = time.time()\n",
    "    positions_sim.append(game_env.get_current_position_simulation())\n",
    "    toc = time.time()\n",
    "    time_get_sim.append(toc-tic)\n",
    "    \n",
    "    tic = time.time()\n",
    "    game_env.simulate_move(2)\n",
    "    toc = time.time()\n",
    "    time_sim.append(toc-tic)\n",
    "    \n",
    "    tic = time.time()\n",
    "    positions_sim.append(game_env.get_current_position_simulation())\n",
    "    toc = time.time()\n",
    "    time_get_sim.append(toc-tic)\n",
    "    \n",
    "    tic = time.time()\n",
    "    game_env.simulate_move(3)\n",
    "    toc = time.time()\n",
    "    time_sim.append(toc-tic)\n",
    "    \n",
    "    tic = time.time()\n",
    "    positions_sim.append(game_env.get_current_position_simulation())\n",
    "    toc = time.time()\n",
    "    time_get_sim.append(toc-tic)\n",
    "    \n",
    "    tic = time.time()\n",
    "    game_env.reset_simulation()\n",
    "    toc = time.time()\n",
    "    time_res_sim = toc-tic\n",
    "    \n",
    "    tic = time.time()\n",
    "    game_env.execute_move(8)\n",
    "    toc = time.time()\n",
    "    time_ex.append(toc-tic)\n",
    "    \n",
    "    tic = time.time()\n",
    "    positions.append(game_env.get_current_position())\n",
    "    toc = time.time()\n",
    "    time_get.append(toc-tic)\n",
    "    \n",
    "    tic = time.time()    \n",
    "    game_env.execute_move(1)\n",
    "    toc = time.time()\n",
    "    time_ex.append(toc-tic)\n",
    "    \n",
    "    tic = time.time()\n",
    "    positions.append(game_env.get_current_position())\n",
    "    toc = time.time()\n",
    "    time_get.append(toc-tic)\n",
    "\n",
    "    tic = time.time()\n",
    "    game_env.execute_move(4)\n",
    "    toc = time.time()\n",
    "    time_ex.append(toc-tic)\n",
    "\n",
    "    tic = time.time()    \n",
    "    positions.append(game_env.get_current_position())\n",
    "    toc = time.time()\n",
    "    time_get.append(toc-tic)\n",
    "\n",
    "    tic = time.time()\n",
    "    game_env.execute_move(2)\n",
    "    toc = time.time()\n",
    "    time_ex.append(toc-tic)\n",
    "\n",
    "    tic = time.time()\n",
    "    positions.append(game_env.get_current_position())\n",
    "    toc = time.time()\n",
    "    time_get.append(toc-tic)\n",
    "\n",
    "    tic = time.time()\n",
    "    game_env.execute_move(5)\n",
    "    toc = time.time()\n",
    "    time_ex.append(toc-tic)\n",
    "\n",
    "    tic = time.time()\n",
    "    positions.append(game_env.get_current_position())\n",
    "    toc = time.time()\n",
    "    time_get.append(toc-tic)\n",
    "\n",
    "    tic = time.time()\n",
    "    game_env.reset_game()\n",
    "    toc = time.time()\n",
    "    time_res = toc-tic\n",
    "    \n",
    "    times = {\n",
    "        \"execute_move\": np.mean(time_ex),\n",
    "        \"simulate_move\": np.mean(time_sim),\n",
    "        \"get_current_position\": np.mean(time_get),\n",
    "        \"get_current_position_simulation\": np.mean(time_get_sim),\n",
    "        \"reset_game\": time_res,\n",
    "        \"reset_simulation\": time_res_sim\n",
    "    }\n",
    "    return times, positions, positions_sim"
   ]
  },
  {
   "cell_type": "code",
   "execution_count": 9,
   "metadata": {},
   "outputs": [],
   "source": [
    "no_opt = game.TicTacToe()\n",
    "opt = game.TicTacToeOptimized()\n",
    "\n",
    "times_no_opt, pos_no_opt, pos_sim_no_opt  = play_game(no_opt)\n",
    "times_opt, pos_opt, pos_sim_opt = play_game(opt)"
   ]
  },
  {
   "cell_type": "code",
   "execution_count": 10,
   "metadata": {},
   "outputs": [
    {
     "name": "stdout",
     "output_type": "stream",
     "text": [
      "execute_move\n",
      "not optimized: 0.000141143798828125\n",
      "optimized: 8.0108642578125e-06\n",
      "-> 0.05675675675675676 \n",
      "\n",
      "simulate_move\n",
      "not optimized: 0.00027304887771606445\n",
      "optimized: 1.5020370483398438e-05\n",
      "-> 0.0550098231827112 \n",
      "\n",
      "get_current_position\n",
      "not optimized: 0.00015835762023925782\n",
      "optimized: 8.406639099121094e-05\n",
      "-> 0.5308641975308642 \n",
      "\n",
      "get_current_position_simulation\n",
      "not optimized: 0.00027000904083251953\n",
      "optimized: 7.444620132446289e-05\n",
      "-> 0.2757174392935982 \n",
      "\n",
      "reset_game\n",
      "not optimized: 4.506111145019531e-05\n",
      "optimized: 2.002716064453125e-05\n",
      "-> 0.4444444444444444 \n",
      "\n",
      "reset_simulation\n",
      "not optimized: 4.315376281738281e-05\n",
      "optimized: 6.198883056640625e-05\n",
      "-> 1.4364640883977902 \n"
     ]
    }
   ],
   "source": [
    "print(\"execute_move\")\n",
    "print(\"not optimized: {}\" .format(times_no_opt[\"execute_move\"]))\n",
    "print(\"optimized: {}\" .format(times_opt[\"execute_move\"]))\n",
    "print(\"-> {} \" .format(\n",
    "    times_opt[\"execute_move\"]/times_no_opt[\"execute_move\"]\n",
    "))\n",
    "\n",
    "print()\n",
    "\n",
    "print(\"simulate_move\")\n",
    "print(\"not optimized: {}\" .format(times_no_opt[\"simulate_move\"]))\n",
    "print(\"optimized: {}\" .format(times_opt[\"simulate_move\"]))\n",
    "print(\"-> {} \" .format(\n",
    "    times_opt[\"simulate_move\"]/times_no_opt[\"simulate_move\"]\n",
    "))\n",
    "\n",
    "print()\n",
    "\n",
    "print(\"get_current_position\")\n",
    "print(\"not optimized: {}\" .format(times_no_opt[\"get_current_position\"]))\n",
    "print(\"optimized: {}\" .format(times_opt[\"get_current_position\"]))\n",
    "print(\"-> {} \" .format(\n",
    "    times_opt[\"get_current_position\"]/times_no_opt[\"get_current_position\"]\n",
    "))\n",
    "\n",
    "print()\n",
    "\n",
    "print(\"get_current_position_simulation\")\n",
    "print(\"not optimized: {}\" .format(times_no_opt[\"get_current_position_simulation\"]))\n",
    "print(\"optimized: {}\" .format(times_opt[\"get_current_position_simulation\"]))\n",
    "print(\"-> {} \" .format(\n",
    "    times_opt[\"get_current_position_simulation\"]/times_no_opt[\"get_current_position_simulation\"]\n",
    "))\n",
    "\n",
    "print()\n",
    "\n",
    "print(\"reset_game\")\n",
    "print(\"not optimized: {}\" .format(times_no_opt[\"reset_game\"]))\n",
    "print(\"optimized: {}\" .format(times_opt[\"reset_game\"]))\n",
    "print(\"-> {} \" .format(\n",
    "    times_opt[\"reset_game\"]/times_no_opt[\"reset_game\"]\n",
    "))\n",
    "\n",
    "print()\n",
    "\n",
    "print(\"reset_simulation\")\n",
    "print(\"not optimized: {}\" .format(times_no_opt[\"reset_simulation\"]))\n",
    "print(\"optimized: {}\" .format(times_opt[\"reset_simulation\"]))\n",
    "print(\"-> {} \" .format(\n",
    "    times_opt[\"reset_simulation\"]/times_no_opt[\"reset_simulation\"]\n",
    "))"
   ]
  },
  {
   "cell_type": "code",
   "execution_count": 11,
   "metadata": {},
   "outputs": [
    {
     "name": "stdout",
     "output_type": "stream",
     "text": [
      "no opt\n",
      "[[0 0 0]\n",
      " [0 0 0]\n",
      " [0 0 0]]\n",
      "[[0 0 0]\n",
      " [0 0 0]\n",
      " [0 0 1]]\n",
      "[[0 0 0]\n",
      " [0 0 0]\n",
      " [0 0 0]]\n",
      "[1 0 0 1 0 0 1 1 0]\n",
      "opt\n",
      "[[0 0 0]\n",
      " [0 0 0]\n",
      " [0 0 0]]\n",
      "[[0 0 0]\n",
      " [0 0 0]\n",
      " [0 0 1]]\n",
      "[[0 0 0]\n",
      " [0 0 0]\n",
      " [0 0 0]]\n",
      "[1 0 0 1 0 0 1 1 0]\n",
      "no opt\n",
      "[[0 0 0]\n",
      " [0 0 0]\n",
      " [0 0 1]]\n",
      "[[0 1 0]\n",
      " [0 0 0]\n",
      " [0 0 0]]\n",
      "[[1 1 1]\n",
      " [1 1 1]\n",
      " [1 1 1]]\n",
      "[1 0 0 1 0 0 1 1 0]\n",
      "opt\n",
      "[[0 0 0]\n",
      " [0 0 0]\n",
      " [0 0 1]]\n",
      "[[0 1 0]\n",
      " [0 0 0]\n",
      " [0 0 0]]\n",
      "[[1 1 1]\n",
      " [1 1 1]\n",
      " [1 1 1]]\n",
      "[1 0 0 1 0 0 1 1 0]\n",
      "no opt\n",
      "[[0 1 0]\n",
      " [0 0 0]\n",
      " [0 0 0]]\n",
      "[[0 0 0]\n",
      " [0 1 0]\n",
      " [0 0 1]]\n",
      "[[0 0 0]\n",
      " [0 0 0]\n",
      " [0 0 0]]\n",
      "[1 0 0 1 0 0 1 1 0]\n",
      "opt\n",
      "[[0 1 0]\n",
      " [0 0 0]\n",
      " [0 0 0]]\n",
      "[[0 0 0]\n",
      " [0 1 0]\n",
      " [0 0 1]]\n",
      "[[0 0 0]\n",
      " [0 0 0]\n",
      " [0 0 0]]\n",
      "[1 0 0 1 0 0 1 1 0]\n",
      "no opt\n",
      "[[0 0 0]\n",
      " [0 1 0]\n",
      " [0 0 1]]\n",
      "[[0 1 1]\n",
      " [0 0 0]\n",
      " [0 0 0]]\n",
      "[[1 1 1]\n",
      " [1 1 1]\n",
      " [1 1 1]]\n",
      "[1 0 0 1 0 0 1 1 0]\n",
      "opt\n",
      "[[0 0 0]\n",
      " [0 1 0]\n",
      " [0 0 1]]\n",
      "[[0 1 1]\n",
      " [0 0 0]\n",
      " [0 0 0]]\n",
      "[[1 1 1]\n",
      " [1 1 1]\n",
      " [1 1 1]]\n",
      "[1 0 0 1 0 0 1 1 0]\n",
      "no opt\n",
      "[[0 1 1]\n",
      " [0 0 0]\n",
      " [0 0 0]]\n",
      "[[0 0 0]\n",
      " [0 1 1]\n",
      " [0 0 1]]\n",
      "[[0 0 0]\n",
      " [0 0 0]\n",
      " [0 0 0]]\n",
      "[1 0 0 1 0 0 1 1 0]\n",
      "opt\n",
      "[[0 1 1]\n",
      " [0 0 0]\n",
      " [0 0 0]]\n",
      "[[0 0 0]\n",
      " [0 1 1]\n",
      " [0 0 1]]\n",
      "[[0 0 0]\n",
      " [0 0 0]\n",
      " [0 0 0]]\n",
      "[1 0 0 1 0 0 1 1 0]\n"
     ]
    }
   ],
   "source": [
    "for i in range(len(pos_no_opt)):\n",
    "    print(\"no opt\")\n",
    "    print(pos_no_opt[i].state[:,:,0])\n",
    "    print(pos_no_opt[i].state[:,:,1])\n",
    "    print(pos_no_opt[i].state[:,:,2])\n",
    "    print(pos_no_opt[i].legal_actions)\n",
    "    \n",
    "    print(\"opt\")\n",
    "    print(pos_opt[i].state[:,:,0])\n",
    "    print(pos_opt[i].state[:,:,1]) \n",
    "    print(pos_opt[i].state[:,:,2]) \n",
    "    print(pos_opt[i].legal_actions)\n"
   ]
  }
 ],
 "metadata": {
  "kernelspec": {
   "display_name": "Python 3",
   "language": "python",
   "name": "python3"
  },
  "language_info": {
   "codemirror_mode": {
    "name": "ipython",
    "version": 3
   },
   "file_extension": ".py",
   "mimetype": "text/x-python",
   "name": "python",
   "nbconvert_exporter": "python",
   "pygments_lexer": "ipython3",
   "version": "3.5.6"
  }
 },
 "nbformat": 4,
 "nbformat_minor": 2
}
